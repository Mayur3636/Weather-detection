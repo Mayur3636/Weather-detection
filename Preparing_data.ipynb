{
 "cells": [
  {
   "cell_type": "markdown",
   "metadata": {},
   "source": [
    "# Pre-processing of the Dataset"
   ]
  },
  {
   "cell_type": "code",
   "execution_count": 1,
   "metadata": {},
   "outputs": [],
   "source": [
    "import os\n",
    "from PIL import Image\n",
    "import cv2\n",
    "import numpy as np\n",
    "from pathlib import Path"
   ]
  },
  {
   "cell_type": "code",
   "execution_count": 2,
   "metadata": {},
   "outputs": [],
   "source": [
    "# Path of dataset\n",
    "path = \"Data\""
   ]
  },
  {
   "cell_type": "markdown",
   "metadata": {},
   "source": [
    "## Cropping sky from the image"
   ]
  },
  {
   "cell_type": "code",
   "execution_count": 4,
   "metadata": {},
   "outputs": [
    {
     "name": "stderr",
     "output_type": "stream",
     "text": [
      "C:\\Users\\Lenovo\\AppData\\Local\\Temp\\ipykernel_15880\\3713237624.py:30: DeprecationWarning: ANTIALIAS is deprecated and will be removed in Pillow 10 (2023-07-01). Use Resampling.LANCZOS instead.\n",
      "  img = img.resize((wsize, base_height), Image.ANTIALIAS)\n",
      "C:\\Users\\Lenovo\\AppData\\Local\\Temp\\ipykernel_15880\\3713237624.py:48: DeprecationWarning: ANTIALIAS is deprecated and will be removed in Pillow 10 (2023-07-01). Use Resampling.LANCZOS instead.\n",
      "  img = img.resize((base_width, hsize), Image.ANTIALIAS)\n"
     ]
    },
    {
     "name": "stdout",
     "output_type": "stream",
     "text": [
      "----------Total no. of images cropped:  4621 ----------\n"
     ]
    }
   ],
   "source": [
    "count = 0\n",
    "for folder in os.listdir(path):\n",
    "    # os.mkdir(\"Cropped_data\" + '/' + folder)\n",
    "    Path(f\"Cropped_data/{folder}\").mkdir(parents=True, exist_ok=True)\n",
    "    path_ = path + \"/\" +folder\n",
    "    for file in os.listdir(path_):\n",
    "        count += 1\n",
    "        image_path = path_ + \"/\" + file\n",
    "        img = Image.open(image_path)\n",
    "        \n",
    "        # Calculating edges in the image\n",
    "        # width > height\n",
    "        if img.size[0] >= img.size[1]:\n",
    "            read_image = cv2.imread(image_path, 50)\n",
    "            edges = cv2.Canny(read_image, 150, 300)\n",
    "            shape = np.shape(edges)\n",
    "            left = np.sum(edges[0:shape[0] // 2, 0:shape[1] // 2])\n",
    "            right = np.sum(edges[0:shape[0] // 2, shape[1] // 2:])\n",
    "            \n",
    "            # More edges = Building\n",
    "            # Less edges = Sky\n",
    "            if right > left:\n",
    "                sky_side = 0\n",
    "            else:\n",
    "                sky_side = 1\n",
    "                \n",
    "            # Resizing image to a particular size\n",
    "            base_height = 400\n",
    "            wpercent = (base_height / float(img.size[1]))\n",
    "            wsize = int((float(img.size[0]) * float(wpercent)))\n",
    "            img = img.resize((wsize, base_height), Image.ANTIALIAS)\n",
    "                \n",
    "            #Cropping sky area from the image\n",
    "            if sky_side == 0:\n",
    "                img = img.crop((0, 0, base_height, img.size[1])) \n",
    "            else: \n",
    "                img = img.crop((img.size[0]-base_height, 0, img.size[0], img.size[1]))\n",
    "                    \n",
    "            # Saving the cropped image\n",
    "            destination = \"Cropped_data\" + \"/\" + folder + \"/\" + file\n",
    "            img.save(destination)\n",
    "                \n",
    "        else:\n",
    "            base_width = 400\n",
    "            wpercent = (base_width / float(img.size[0]))\n",
    "            hsize = int((float(img.size[1]) * float(wpercent)))\n",
    "        \n",
    "            # Resizing the image\n",
    "            img = img.resize((base_width, hsize), Image.ANTIALIAS)\n",
    "                \n",
    "            # Cropping the image\n",
    "            img = img.crop((0, 0, img.size[0], 400))\n",
    "                \n",
    "            # Saving the cropped image\n",
    "            destination = \"Cropped_data\" + \"/\" + folder + \"/\" + file\n",
    "            img.save(destination)\n",
    "                \n",
    "# print (\"----------Total no. of images cropped: \", count, \"----------\")"
   ]
  },
  {
   "cell_type": "markdown",
   "metadata": {},
   "source": [
    "## Converting images to matrix"
   ]
  },
  {
   "cell_type": "code",
   "execution_count": 10,
   "metadata": {},
   "outputs": [],
   "source": [
    "import keras.utils as image \n",
    "# as image_utils\n",
    "import PIL.ImageOps\n",
    "import random"
   ]
  },
  {
   "cell_type": "code",
   "execution_count": 12,
   "metadata": {},
   "outputs": [],
   "source": [
    "# Path of cropped image\n",
    "image_root = \"Cropped_data/\"\n",
    "\n",
    "# 200 sized model\n",
    "batch_size_for_models = 2\n",
    "    \n",
    "train_data = []\n",
    "train_label = []\n",
    "    \n",
    "classes_dir = os.listdir(image_root)\n",
    "    \n",
    "fc = 0\n",
    "    \n",
    "for cls in classes_dir:\n",
    "    counter = 0\n",
    "    class_list = os.listdir(image_root + cls + \"/\")\n",
    "    for imagename in class_list:\n",
    "        counter +=1\n",
    "            \n",
    "        # Converting image to array\n",
    "        img = image.load_img(image_root + cls + \"/\" + imagename, target_size = (100,100))\n",
    "        img = PIL.ImageOps.invert(img)\n",
    "        img = image.img_to_array(img)\n",
    "            \n",
    "        # Appending array to the list\n",
    "        train_data.append(img)\n",
    "        train_label.append(int(cls))\n",
    "    \n",
    "        # If batch size if completed, Save model\n",
    "        if counter == batch_size_for_models:\n",
    "            # Saving our model\n",
    "            dest = \"Data_npy/\"\n",
    "            # Image data\n",
    "            np.save(dest + \"train_data\" + \".npy\", np.array(train_data))\n",
    "            # Image labels\n",
    "            np.save(dest + \"train_label\" + \".npy\",np.array(train_label))\n",
    "             \n",
    "                \n",
    "# Add the images which are left\n",
    "if (len(train_data) != 0):\n",
    "    np.save(dest+ \"train_data.npy\", np.array(train_data))\n",
    "    np.save(dest+ \"train_label.npy\", np.array(train_label))"
   ]
  }
 ],
 "metadata": {
  "kernelspec": {
   "display_name": "Python 3.8.6 64-bit",
   "language": "python",
   "name": "python3"
  },
  "language_info": {
   "codemirror_mode": {
    "name": "ipython",
    "version": 3
   },
   "file_extension": ".py",
   "mimetype": "text/x-python",
   "name": "python",
   "nbconvert_exporter": "python",
   "pygments_lexer": "ipython3",
   "version": "3.8.6"
  },
  "vscode": {
   "interpreter": {
    "hash": "723d4b7bc280cd31fdada53ad6420192b9a3a8d60631096143cc718cb9440dc1"
   }
  }
 },
 "nbformat": 4,
 "nbformat_minor": 4
}
