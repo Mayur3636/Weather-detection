{
 "cells": [
  {
   "cell_type": "code",
   "execution_count": 6,
   "metadata": {},
   "outputs": [],
   "source": [
    "import os\n",
    "import cv2\n",
    "import matplotlib.pyplot as plt\n",
    "from pathlib import Path"
   ]
  },
  {
   "cell_type": "code",
   "execution_count": 7,
   "metadata": {},
   "outputs": [
    {
     "name": "stdout",
     "output_type": "stream",
     "text": [
      "------------------Data Sliced------------------\n"
     ]
    }
   ],
   "source": [
    "Source = 'Data2' \n",
    "Target = 'Data'\n",
    "# os.mkdir(f\"{Target}14\")\n",
    "for foldername in os.listdir(Source):\n",
    "    # os.mkdir(Target + '/' + foldername)\n",
    "    Path(f\"{Target}/{foldername}\").mkdir(parents=True, exist_ok=True)\n",
    "    count = 1\n",
    "    for file in os.listdir(Source + '/' + foldername):\n",
    "        img = cv2.imread(Source + '/' + foldername + '/' + file)\n",
    "        target_name = Target + '/' + foldername + '/' + file\n",
    "        cv2.imwrite(target_name, img)\n",
    "        count += 1\n",
    "        if count >1000:\n",
    "            break\n",
    "print (\"------------------Data Sliced------------------\")"
   ]
  }
 ],
 "metadata": {
  "kernelspec": {
   "display_name": "Python 3.8.6 64-bit",
   "language": "python",
   "name": "python3"
  },
  "language_info": {
   "codemirror_mode": {
    "name": "ipython",
    "version": 3
   },
   "file_extension": ".py",
   "mimetype": "text/x-python",
   "name": "python",
   "nbconvert_exporter": "python",
   "pygments_lexer": "ipython3",
   "version": "3.8.6"
  },
  "vscode": {
   "interpreter": {
    "hash": "723d4b7bc280cd31fdada53ad6420192b9a3a8d60631096143cc718cb9440dc1"
   }
  }
 },
 "nbformat": 4,
 "nbformat_minor": 4
}
