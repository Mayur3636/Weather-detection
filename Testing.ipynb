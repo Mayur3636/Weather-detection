{
 "cells": [
  {
   "cell_type": "markdown",
   "metadata": {},
   "source": [
    "# Testing out Trained model"
   ]
  },
  {
   "cell_type": "code",
   "execution_count": 43,
   "metadata": {},
   "outputs": [],
   "source": [
    "import tensorflow as tf\n",
    "gpus = tf.config.experimental.list_physical_devices('GPU')\n",
    "if gpus:\n",
    "  try:\n",
    "    for gpu in gpus:\n",
    "      tf.config.experimental.set_memory_growth(gpu, True)\n",
    "  except RuntimeError as e:\n",
    "    print(e)"
   ]
  },
  {
   "cell_type": "code",
   "execution_count": 44,
   "metadata": {},
   "outputs": [],
   "source": [
    "import numpy as np\n",
    "from keras.utils import np_utils\n",
    "from keras.models import load_model"
   ]
  },
  {
   "cell_type": "markdown",
   "metadata": {},
   "source": [
    "## Loading Test data"
   ]
  },
  {
   "cell_type": "code",
   "execution_count": 45,
   "metadata": {},
   "outputs": [],
   "source": [
    "test_data = np.load(\"Test_data/Matrices/Matricestrain_data.npy\")\n",
    "test_label = np.load(\"Test_data/Matrices/Matricestrain_label.npy\")"
   ]
  },
  {
   "cell_type": "markdown",
   "metadata": {},
   "source": [
    "## Pre-processing data"
   ]
  },
  {
   "cell_type": "code",
   "execution_count": 46,
   "metadata": {},
   "outputs": [],
   "source": [
    "# Normalization\n",
    "test_data = test_data / 255.0"
   ]
  },
  {
   "cell_type": "code",
   "execution_count": 47,
   "metadata": {},
   "outputs": [],
   "source": [
    "# Number of classes\n",
    "num_of_classes = 5"
   ]
  },
  {
   "cell_type": "code",
   "execution_count": 48,
   "metadata": {},
   "outputs": [],
   "source": [
    "vd = [ [[], []] for _ in range(5)]\n",
    "for i in range(len(test_data)):\n",
    "    cls = int(test_label[i])\n",
    "    vd[cls][0].append(test_data[i])\n",
    "    vd[cls][1].append(cls)\n",
    "for i in range(5):\n",
    "    vd[i][0] = np.array(vd[i][0])\n",
    "    vd[i][1] = np.array(vd[i][1])"
   ]
  },
  {
   "cell_type": "code",
   "execution_count": 49,
   "metadata": {},
   "outputs": [],
   "source": [
    "# One-hot encoding\n",
    "test_label = np_utils.to_categorical(test_label, num_of_classes)"
   ]
  },
  {
   "cell_type": "markdown",
   "metadata": {},
   "source": [
    "## Loading trained model"
   ]
  },
  {
   "cell_type": "code",
   "execution_count": 50,
   "metadata": {},
   "outputs": [],
   "source": [
    "model = load_model(\"trainedModelE10.h5\")"
   ]
  },
  {
   "cell_type": "markdown",
   "metadata": {},
   "source": [
    "## Prediction on test data"
   ]
  },
  {
   "cell_type": "code",
   "execution_count": 51,
   "metadata": {},
   "outputs": [
    {
     "name": "stdout",
     "output_type": "stream",
     "text": [
      "10/10 [==============================] - 1s 50ms/step\n"
     ]
    }
   ],
   "source": [
    "# y = model.predict(test_data, verbose=0)\n",
    "y = (model.predict(test_data) > 0.5).astype(\"int32\")\n",
    "# y is of type [[0,0,1,0,1],[1,0,0,0,0],....]"
   ]
  },
  {
   "cell_type": "code",
   "execution_count": 52,
   "metadata": {},
   "outputs": [],
   "source": [
    "# Convert a binary class matrix to class vector(integer)\n",
    "new_lbl = []\n",
    "for i in range(len(test_label)):\n",
    "    new_lbl.append(np.argmax(test_label[i]))\n",
    "class_vec = new_lbl\n",
    "# print(new_lbl)\n",
    "# new_label contains the correct answer"
   ]
  },
  {
   "cell_type": "markdown",
   "metadata": {},
   "source": [
    "## Calculating General Accuracy"
   ]
  },
  {
   "cell_type": "code",
   "execution_count": 53,
   "metadata": {},
   "outputs": [
    {
     "name": "stdout",
     "output_type": "stream",
     "text": [
      "General Accuracy for Test Data is : 0.7587301587301587\n"
     ]
    }
   ],
   "source": [
    "c = 0\n",
    "t = 0\n",
    "for i in y:\n",
    "    m = 0\n",
    "    for ind in range(len(i)):\n",
    "        if i[ind] == 1:\n",
    "            m = ind\n",
    "            # print(f\"{m},\", end=\" \")\n",
    "            \n",
    "    if m == new_lbl[t]:\n",
    "        c += 1\n",
    "    t += 1\n",
    "acc = c / len(y)\n",
    "print(\"General Accuracy for Test Data is :\", acc)"
   ]
  }
 ],
 "metadata": {
  "kernelspec": {
   "display_name": "Python 3.8.6 64-bit",
   "language": "python",
   "name": "python3"
  },
  "language_info": {
   "codemirror_mode": {
    "name": "ipython",
    "version": 3
   },
   "file_extension": ".py",
   "mimetype": "text/x-python",
   "name": "python",
   "nbconvert_exporter": "python",
   "pygments_lexer": "ipython3",
   "version": "3.8.6"
  },
  "vscode": {
   "interpreter": {
    "hash": "723d4b7bc280cd31fdada53ad6420192b9a3a8d60631096143cc718cb9440dc1"
   }
  }
 },
 "nbformat": 4,
 "nbformat_minor": 4
}
